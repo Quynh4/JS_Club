{
 "cells": [
  {
   "cell_type": "code",
   "execution_count": 2,
   "id": "810c0b9e",
   "metadata": {},
   "outputs": [
    {
     "name": "stdout",
     "output_type": "stream",
     "text": [
      "7\n",
      "14 25\n",
      "14 36\n",
      "14 76\n",
      "14 115\n",
      "0 14\n",
      "25 10\n",
      "25 20\n",
      "14 25\n"
     ]
    }
   ],
   "source": [
    "n = int(input())\n",
    "idToSerial = {}\n",
    "isOriginal = {}\n",
    "for i in range(n):\n",
    "    id, serial = map(int, input().split())\n",
    "    if id < 0:\n",
    "        print(\"Error!. Invalid ID\")\n",
    "        exit()\n",
    "    if serial < 0:\n",
    "        print(\"Error!. Invalid Serial Number\")\n",
    "        exit()\n",
    "    if id in idToSerial:\n",
    "        isOriginal[idToSerial[id]] = False\n",
    "        isOriginal[serial] = False\n",
    "    else:\n",
    "        idToSerial[id] = serial\n",
    "        isOriginal[serial] = True\n",
    "count = 0\n",
    "firstId, firstSerial = -1, -1\n",
    "for key, value in isOriginal.items():\n",
    "    if value:\n",
    "        count += 1\n",
    "        if count == 1:\n",
    "            firstId = key\n",
    "            firstSerial = idToSerial[firstId]\n",
    "        elif count == 2:\n",
    "            print(\"There are two original robot\")\n",
    "            exit()\n",
    "if count == 0:\n",
    "    print(\"Error!. Invalid total number of robot\")\n",
    "elif count == 1:\n",
    "    print(firstId, firstSerial)\n"
   ]
  },
  {
   "cell_type": "code",
   "execution_count": 7,
   "id": "5b608520",
   "metadata": {},
   "outputs": [
    {
     "name": "stdout",
     "output_type": "stream",
     "text": [
      "Nhập số hạng thứ n: 5\n",
      "0.012\n"
     ]
    }
   ],
   "source": [
    "n = int(input(\"Nhập số hạng thứ n: \"))\n",
    "print(round((1/3)**(n-1),3))"
   ]
  }
 ],
 "metadata": {
  "kernelspec": {
   "display_name": "Python 3 (ipykernel)",
   "language": "python",
   "name": "python3"
  },
  "language_info": {
   "codemirror_mode": {
    "name": "ipython",
    "version": 3
   },
   "file_extension": ".py",
   "mimetype": "text/x-python",
   "name": "python",
   "nbconvert_exporter": "python",
   "pygments_lexer": "ipython3",
   "version": "3.10.9"
  }
 },
 "nbformat": 4,
 "nbformat_minor": 5
}
